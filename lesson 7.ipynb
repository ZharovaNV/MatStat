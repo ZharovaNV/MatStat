{
 "cells": [
  {
   "cell_type": "markdown",
   "metadata": {},
   "source": [
    "### Задача 1"
   ]
  },
  {
   "cell_type": "markdown",
   "metadata": {},
   "source": [
    "Даны значения величины заработной платы заемщиков банка (zp) и значения их поведенческого кредитного скоринга (ks): zp = [35, 45, 190, 200, 40, 70, 54, 150, 120, 110], ks = [401, 574, 874, 919, 459, 739, 653, 902, 746, 832]. Используя математические операции, посчитать коэффициенты линейной регрессии, приняв за X заработную плату (то есть, zp - признак), а за y - значения скорингового балла (то есть, ks - целевая переменная). Произвести расчет как с использованием intercept, так и без."
   ]
  },
  {
   "cell_type": "code",
   "execution_count": 1,
   "metadata": {},
   "outputs": [],
   "source": [
    "import numpy as np\n",
    "import pandas as pd\n",
    "from scipy.stats import norm\n",
    "from scipy.stats import t"
   ]
  },
  {
   "cell_type": "code",
   "execution_count": 2,
   "metadata": {},
   "outputs": [],
   "source": [
    "zp = np.array([35, 45, 190, 200, 40, 70, 54, 150, 120, 110])\n",
    "ks = np.array([401, 574, 874, 919, 459, 739, 653, 902, 746, 832])"
   ]
  },
  {
   "cell_type": "markdown",
   "metadata": {},
   "source": [
    "С интерсептом"
   ]
  },
  {
   "cell_type": "code",
   "execution_count": null,
   "metadata": {},
   "outputs": [],
   "source": [
    "По формулам"
   ]
  },
  {
   "cell_type": "code",
   "execution_count": 3,
   "metadata": {},
   "outputs": [
    {
     "data": {
      "text/plain": [
       "2.620538882402765"
      ]
     },
     "execution_count": 3,
     "metadata": {},
     "output_type": "execute_result"
    }
   ],
   "source": [
    "b = (np.mean(zp * ks) - np.mean(zp) * np.mean(ks)) / (np.mean(zp**2) - np.mean(zp) ** 2)\n",
    "b"
   ]
  },
  {
   "cell_type": "code",
   "execution_count": 4,
   "metadata": {},
   "outputs": [
    {
     "data": {
      "text/plain": [
       "444.1773573243596"
      ]
     },
     "execution_count": 4,
     "metadata": {},
     "output_type": "execute_result"
    }
   ],
   "source": [
    "a = np.mean(ks) - b * np.mean(zp)\n",
    "a"
   ]
  },
  {
   "cell_type": "markdown",
   "metadata": {},
   "source": [
    "Уравнение линейной регрессии имеет вид $y = 444.177 + 2.621 \\cdot x$"
   ]
  },
  {
   "cell_type": "code",
   "execution_count": 25,
   "metadata": {},
   "outputs": [],
   "source": [
    "y_pred = zp * 2.621 + 444.177"
   ]
  },
  {
   "cell_type": "code",
   "execution_count": 26,
   "metadata": {},
   "outputs": [
    {
     "data": {
      "image/png": "[encoded data removed]",
      "text/plain": [
       "<Figure size 432x288 with 1 Axes>"
      ]
     },
     "metadata": {
      "needs_background": "light"
     },
     "output_type": "display_data"
    }
   ],
   "source": [
    "import matplotlib.pyplot as plt\n",
    "\n",
    "plt.scatter(zp, ks)\n",
    "plt.plot(zp, y_pred)\n",
    "plt.show()"
   ]
  },
  {
   "cell_type": "markdown",
   "metadata": {},
   "source": [
    "То же самое с помошью мартичных вычислений"
   ]
  },
  {
   "cell_type": "code",
   "execution_count": 24,
   "metadata": {},
   "outputs": [
    {
     "name": "stdout",
     "output_type": "stream",
     "text": [
      "у = 444.177 + 2.621 * x\n"
     ]
    }
   ],
   "source": [
    "X = np.hstack([np.ones((10,1)), zp.reshape((10, 1))])\n",
    "y = ks.reshape((10, 1))\n",
    "B = np.dot(np.linalg.inv(np.dot(X.T, X)), X.T@y)\n",
    "print(f'у = {round(B[0, 0],3)} + {round(B[1, 0],3)} * x')"
   ]
  },
  {
   "cell_type": "markdown",
   "metadata": {},
   "source": [
    "Без интерсепта"
   ]
  },
  {
   "cell_type": "code",
   "execution_count": 27,
   "metadata": {},
   "outputs": [
    {
     "data": {
      "text/plain": [
       "5.889820420132688"
      ]
     },
     "execution_count": 27,
     "metadata": {},
     "output_type": "execute_result"
    }
   ],
   "source": [
    "b = np.mean(zp * ks) / np.mean(zp**2)\n",
    "b"
   ]
  },
  {
   "cell_type": "markdown",
   "metadata": {},
   "source": [
    "Уравнение линейной регрессии без интерсепта имеет вид $y = 5.89 \\cdot x$"
   ]
  },
  {
   "cell_type": "code",
   "execution_count": 29,
   "metadata": {},
   "outputs": [
    {
     "data": {
      "image/png": "[encoded data removed]",
      "text/plain": [
       "<Figure size 432x288 with 1 Axes>"
      ]
     },
     "metadata": {
      "needs_background": "light"
     },
     "output_type": "display_data"
    }
   ],
   "source": [
    "y_pred = zp * 5.89\n",
    "\n",
    "plt.scatter(zp, ks)\n",
    "plt.plot(zp, y_pred)\n",
    "plt.show()"
   ]
  },
  {
   "cell_type": "markdown",
   "metadata": {},
   "source": [
    "То же самое с помошью мартичных вычислений"
   ]
  },
  {
   "cell_type": "code",
   "execution_count": 30,
   "metadata": {},
   "outputs": [
    {
     "name": "stdout",
     "output_type": "stream",
     "text": [
      "у = 5.89 * x\n"
     ]
    }
   ],
   "source": [
    "X = zp.reshape((10, 1))\n",
    "y = ks.reshape((10, 1))\n",
    "B = np.dot(np.linalg.inv(np.dot(X.T, X)), X.T@y)\n",
    "print(f'у = {round(B[0, 0],3)} * x')"
   ]
  },
  {
   "cell_type": "markdown",
   "metadata": {},
   "source": [
    "### Задача 2"
   ]
  },
  {
   "cell_type": "markdown",
   "metadata": {},
   "source": [
    "Посчитать коэффициент линейной регрессии при заработной плате (zp), используя градиентный спуск (без intercept)."
   ]
  },
  {
   "cell_type": "code",
   "execution_count": 46,
   "metadata": {},
   "outputs": [],
   "source": [
    "def mse(b, x, y, n):\n",
    "    return np.sum((b * x - y)**2) / n"
   ]
  },
  {
   "cell_type": "code",
   "execution_count": 47,
   "metadata": {},
   "outputs": [],
   "source": [
    "alpha = 0.000001\n",
    "b = 1\n",
    "n = 10\n",
    "inumb = 1000"
   ]
  },
  {
   "cell_type": "code",
   "execution_count": 48,
   "metadata": {},
   "outputs": [
    {
     "name": "stdout",
     "output_type": "stream",
     "text": [
      "b = 1.135, mse = 368017.949\n",
      "b = 5.599, mse = 57682.674\n",
      "b = 5.872, mse = 56521.222\n",
      "b = 5.889, mse = 56516.875\n",
      "b = 5.89, mse = 56516.858\n",
      "b = 5.89, mse = 56516.858\n",
      "b = 5.89, mse = 56516.858\n",
      "b = 5.89, mse = 56516.858\n",
      "b = 5.89, mse = 56516.858\n",
      "b = 5.89, mse = 56516.858\n"
     ]
    }
   ],
   "source": [
    "for i in range(inumb):\n",
    "    b = b - alpha * (2/n) * np.sum((b * zp - ks)*zp) \n",
    "    if not(i%(inumb//10)):\n",
    "        print(f'b = {round(b, 3)}, mse = {round(mse(b, zp, ks, n), 3)}')"
   ]
  },
  {
   "cell_type": "markdown",
   "metadata": {},
   "source": [
    "### Зачдача 3"
   ]
  },
  {
   "cell_type": "markdown",
   "metadata": {},
   "source": [
    "В каких случаях для вычисления доверительных интервалов и проверки статистических гипотез используется таблица значений функции Лапласа, а в каких - таблица критических точек распределения Стьюдента?"
   ]
  },
  {
   "cell_type": "markdown",
   "metadata": {},
   "source": [
    "Если известно среднекватратичное отклонение генеральной совокупности, то используется таблица значенй функции Лапласа, если не известно, то таблица критических точек распределения Стьюдента, при этом в каечстве $\\sigma$ используется среднекватратичное отклонение выборки"
   ]
  },
  {
   "cell_type": "markdown",
   "metadata": {},
   "source": [
    "### Задача 4"
   ]
  },
  {
   "cell_type": "markdown",
   "metadata": {},
   "source": [
    "Произвести вычисления как в пункте 2, но с вычислением intercept. Учесть, что изменение коэффициентов должно производиться на каждом шаге одновременно (то есть изменение одного коэффициента не должно влиять на изменение другого во время одной итерации)."
   ]
  },
  {
   "cell_type": "markdown",
   "metadata": {},
   "source": [
    "MSE = $\\frac 1n \\sum{(a + bx - y)^2}$"
   ]
  },
  {
   "cell_type": "markdown",
   "metadata": {},
   "source": [
    "$\\frac{\\partial {MSE}}{\\partial b} = \\frac 2n \\sum{(a + bx - y)x}$\n",
    "\n",
    "$\\frac{\\partial MSE}{\\partial a} = \\frac 2n \\sum{(a + bx - y)}$"
   ]
  },
  {
   "cell_type": "code",
   "execution_count": 49,
   "metadata": {},
   "outputs": [],
   "source": [
    "def mse(a, b, x, y, n):\n",
    "    return np.sum((a + b * x - y)**2) / n"
   ]
  },
  {
   "cell_type": "code",
   "execution_count": 63,
   "metadata": {},
   "outputs": [
    {
     "name": "stdout",
     "output_type": "stream",
     "text": [
      "a = 0.012, b = 2.347, mse = 229393.943\n",
      "a = 283.157, b = 3.806, mse = 13047.322\n",
      "a = 385.8, b = 3.05, mse = 7334.875\n",
      "a = 423.013, b = 2.776, mse = 6584.038\n",
      "a = 436.504, b = 2.677, mse = 6485.349\n",
      "a = 441.396, b = 2.641, mse = 6472.377\n",
      "a = 443.169, b = 2.628, mse = 6470.672\n",
      "a = 443.812, b = 2.623, mse = 6470.448\n",
      "a = 444.045, b = 2.622, mse = 6470.419\n",
      "a = 444.129, b = 2.621, mse = 6470.415\n"
     ]
    }
   ],
   "source": [
    "alpha = 0.00001\n",
    "a = 0\n",
    "b = 1\n",
    "n = 10\n",
    "inumb = 2000000\n",
    "\n",
    "for i in range(inumb):\n",
    "    err = a + b * zp - ks\n",
    "    a -= alpha * (2/n) * np.sum(err) \n",
    "    b -= alpha * (2/n) * np.sum(err*zp) \n",
    "    \n",
    "    if not(i%(inumb//10)):\n",
    "        print(f'a = {round(a, 3)}, b = {round(b, 3)}, mse = {round(mse(a, b, zp, ks, n), 3)}')"
   ]
  },
  {
   "cell_type": "markdown",
   "metadata": {},
   "source": [
    "### F-критерий Фишера"
   ]
  },
  {
   "cell_type": "code",
   "execution_count": 87,
   "metadata": {},
   "outputs": [
    {
     "data": {
      "text/plain": [
       "0.8876462573960852"
      ]
     },
     "execution_count": 87,
     "metadata": {},
     "output_type": "execute_result"
    }
   ],
   "source": [
    "a = 444.129\n",
    "b = 2.621\n",
    "n = 10\n",
    "r = b * np.std(zp) / np.std(ks)\n",
    "r"
   ]
  },
  {
   "cell_type": "code",
   "execution_count": 99,
   "metadata": {},
   "outputs": [
    {
     "data": {
      "text/plain": [
       "29.72088138760982"
      ]
     },
     "execution_count": 99,
     "metadata": {},
     "output_type": "execute_result"
    }
   ],
   "source": [
    "F_fact = (r**2 * (n - 2)) / (1 - r**2)\n",
    "F_fact"
   ]
  },
  {
   "cell_type": "markdown",
   "metadata": {},
   "source": [
    "При 5 % уровне значимости и степенях свободы  k1=1  и  k2=10−2=8  табличное значение критерия:  Fкр=5.32 .\n",
    "\n",
    "Так как  Fфакт=29.72>Fкр=5.32 , уравнение регрессии статистически значимо."
   ]
  },
  {
   "cell_type": "markdown",
   "metadata": {},
   "source": [
    "Второй способ расчета Fфакт"
   ]
  },
  {
   "cell_type": "code",
   "execution_count": 98,
   "metadata": {},
   "outputs": [
    {
     "data": {
      "text/plain": [
       "29.682080576514288"
      ]
     },
     "execution_count": 98,
     "metadata": {},
     "output_type": "execute_result"
    }
   ],
   "source": [
    "F_fact = ((a + b * zp - ks.mean())**2).sum()  / (((ks - (a + b * zp))**2).sum()/8)\n",
    "F_fact"
   ]
  }
 ],
 "metadata": {
  "kernelspec": {
   "display_name": "Python 3",
   "language": "python",
   "name": "python3"
  },
  "language_info": {
   "codemirror_mode": {
    "name": "ipython",
    "version": 3
   },
   "file_extension": ".py",
   "mimetype": "text/x-python",
   "name": "python",
   "nbconvert_exporter": "python",
   "pygments_lexer": "ipython3",
   "version": "3.7.4"
  }
 },
 "nbformat": 4,
 "nbformat_minor": 2
}
