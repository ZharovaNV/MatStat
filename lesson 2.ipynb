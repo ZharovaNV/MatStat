{
 "cells": [
  {
   "cell_type": "markdown",
   "metadata": {},
   "source": [
    "### Задача 1"
   ]
  },
  {
   "cell_type": "markdown",
   "metadata": {},
   "source": [
    "Вероятность того, что стрелок попадет в мишень, выстрелив один раз, равна 0.8. Стрелок выстрелил 100 раз. Найдите вероятность того, что стрелок попадет в цель ровно 85 раз."
   ]
  },
  {
   "cell_type": "markdown",
   "metadata": {},
   "source": [
    "Используем биномиальный закон распределения с параметрами: $p=0.8, n = 100, k = 85$.\n",
    "\n",
    "$P(X=85) = C_{100}^{85} \\cdot {0.8}^{85} \\cdot {0.2}^{15} \\approx 0.0481$"
   ]
  },
  {
   "cell_type": "code",
   "execution_count": 3,
   "metadata": {},
   "outputs": [
    {
     "data": {
      "text/plain": [
       "0.048061793700746355"
      ]
     },
     "execution_count": 3,
     "metadata": {},
     "output_type": "execute_result"
    }
   ],
   "source": [
    "import math\n",
    "import numpy as np\n",
    "p=0.8\n",
    "\n",
    "math.factorial(100)/(math.factorial(85)*math.factorial(100-85))*((0.8)**(85))*((1-0.8)**(100-85))\n"
   ]
  },
  {
   "cell_type": "markdown",
   "metadata": {},
   "source": [
    "### Задача 2"
   ]
  },
  {
   "cell_type": "markdown",
   "metadata": {},
   "source": [
    "Вероятность того, что лампочка перегорит в течение первого дня эксплуатации, равна 0.0004. В жилом комплексе после ремонта в один день включили 5000 новых лампочек. Какова вероятность, что ни одна из них не перегорит в первый день? Какова вероятность, что перегорят ровно две?"
   ]
  },
  {
   "cell_type": "markdown",
   "metadata": {},
   "source": [
    "Используем распределение Пуассона с параметром $\\lambda = 0.0004 \\cdot 5000=2$\n",
    "\n",
    "$P(X=0) = \\frac{\\lambda^0}{0!} \\exp(-\\lambda) \\approx 0.1353$\n",
    "\n",
    "$P(X=2) = \\frac{\\lambda^2}{2!} \\exp(-\\lambda) \\approx 0.27067$"
   ]
  },
  {
   "cell_type": "code",
   "execution_count": 2,
   "metadata": {},
   "outputs": [
    {
     "data": {
      "text/plain": [
       "(0.1353352832366127, 0.2706705664732254)"
      ]
     },
     "execution_count": 2,
     "metadata": {},
     "output_type": "execute_result"
    }
   ],
   "source": [
    "n = 5000\n",
    "p = 0.0004\n",
    "lam = n * p\n",
    "m1 = 0\n",
    "m2 = 2\n",
    "\n",
    "p1 = (lam**m1 / math.factorial(m1)) * np.exp(-lam)\n",
    "p2 = (lam**m2 / math.factorial(m2)) * np.exp(-lam)\n",
    "\n",
    "p1, p2"
   ]
  },
  {
   "cell_type": "markdown",
   "metadata": {},
   "source": [
    "### Задача 3"
   ]
  },
  {
   "cell_type": "markdown",
   "metadata": {},
   "source": [
    "Монету подбросили 144 раза. Какова вероятность, что орел выпадет ровно 70 раз?"
   ]
  },
  {
   "cell_type": "markdown",
   "metadata": {},
   "source": [
    "Используем биномиальный закон распределения с параметрами: $p=0.5, n = 144, k = 70$.\n",
    "\n",
    "$P(X=70) = C_{144}^{70} \\cdot {0.5}^{70} \\cdot {0.5}^{144-70} \\approx 0.0628$"
   ]
  },
  {
   "cell_type": "code",
   "execution_count": 4,
   "metadata": {},
   "outputs": [
    {
     "data": {
      "text/plain": [
       "0.06281178035144776"
      ]
     },
     "execution_count": 4,
     "metadata": {},
     "output_type": "execute_result"
    }
   ],
   "source": [
    "math.factorial(144)/(math.factorial(70)*math.factorial(144-70))*((0.5)**(70))*((1-0.5)**(144-70))"
   ]
  },
  {
   "cell_type": "markdown",
   "metadata": {},
   "source": [
    "### Задача 4"
   ]
  },
  {
   "cell_type": "markdown",
   "metadata": {},
   "source": [
    "В первом ящике находится 10 мячей, из которых 7 - белые. Во втором ящике - 11 мячей, из которых 9 белых. Из каждого ящика вытаскивают случайным образом по два мяча. Какова вероятность того, что все мячи белые? Какова вероятность того, что ровно два мяча белые? Какова вероятность того, что хотя бы один мяч белый?"
   ]
  },
  {
   "cell_type": "markdown",
   "metadata": {},
   "source": [
    "Вероятность, что все мячи белые равна $P(X=2 \\& Y=2)=\\frac{C_7^2}{C_{10}^2} \\cdot \\frac{C_9^2}{C_{11}^2} \\approx 0.305$\n",
    "\n",
    "Вероятность того, что ровно два мяча белые равна $P(X=2 \\& Y=0)+P(X=1 \\& Y=1)+P(X=0 \\& Y=2)=\\frac{C_7^2}{C_{10}^2} \\cdot \\frac{C_2^2}{C_{11}^2} + \\frac{C_7^1}{C_{10}^2} \\cdot \\frac{C_9^1}{C_{11}^2} + \\frac{C_3^2}{C_{10}^2} \\cdot \\frac{C_9^2}{C_{11}^2} \\approx 0.0776$\n",
    "\n",
    "Вероятность того, что хотя бы один мяч белый равна $1 - P(X=0 \\& Y=0)=1-\\frac{C_3^2}{C_{10}^2} \\cdot \\frac{C_2^2}{C_{11}^2} \\approx 0.9988$"
   ]
  },
  {
   "cell_type": "code",
   "execution_count": 6,
   "metadata": {},
   "outputs": [],
   "source": [
    "def calc_prob_ball (k1, n1, k2, n2):\n",
    "    d1 = math.factorial(n1)/(math.factorial(k1)*math.factorial(n1-k1))\n",
    "    d2 = math.factorial(n2)/(math.factorial(k2)*math.factorial(n2-k2))\n",
    "    return d1/d2"
   ]
  },
  {
   "cell_type": "code",
   "execution_count": 8,
   "metadata": {},
   "outputs": [
    {
     "data": {
      "text/plain": [
       "0.3054545454545455"
      ]
     },
     "execution_count": 8,
     "metadata": {},
     "output_type": "execute_result"
    }
   ],
   "source": [
    "calc_prob_ball(2,7,2,10) * calc_prob_ball(2,9,2,11)"
   ]
  },
  {
   "cell_type": "code",
   "execution_count": 9,
   "metadata": {},
   "outputs": [
    {
     "data": {
      "text/plain": [
       "0.07757575757575758"
      ]
     },
     "execution_count": 9,
     "metadata": {},
     "output_type": "execute_result"
    }
   ],
   "source": [
    "calc_prob_ball(2,7,2,10) * calc_prob_ball(2,2,2,11)+calc_prob_ball(1,7,2,10) * calc_prob_ball(1,9,2,11)+calc_prob_ball(2,3,2,10) * calc_prob_ball(2,9,2,11)"
   ]
  },
  {
   "cell_type": "code",
   "execution_count": 10,
   "metadata": {},
   "outputs": [
    {
     "data": {
      "text/plain": [
       "0.9987878787878788"
      ]
     },
     "execution_count": 10,
     "metadata": {},
     "output_type": "execute_result"
    }
   ],
   "source": [
    "1 - calc_prob_ball(2,3,2,10) * calc_prob_ball(2,2,2,11)"
   ]
  }
 ],
 "metadata": {
  "kernelspec": {
   "display_name": "Python 3",
   "language": "python",
   "name": "python3"
  },
  "language_info": {
   "codemirror_mode": {
    "name": "ipython",
    "version": 3
   },
   "file_extension": ".py",
   "mimetype": "text/x-python",
   "name": "python",
   "nbconvert_exporter": "python",
   "pygments_lexer": "ipython3",
   "version": "3.7.4"
  }
 },
 "nbformat": 4,
 "nbformat_minor": 2
}
